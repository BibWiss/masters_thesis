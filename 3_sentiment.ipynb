{
 "cells": [
  {
   "cell_type": "markdown",
   "metadata": {},
   "source": [
    "# Sentiment Analysis\n",
    "\n",
    "## Preparation"
   ]
  },
  {
   "cell_type": "code",
   "execution_count": null,
   "metadata": {},
   "outputs": [],
   "source": [
    "# import statements\n",
    "\n",
    "from functions.basic import read_file\n",
    "from functions.processing import split_sents\n",
    "from functions.sentiment import sentiws_glossary, get_polarity_values, get_germansentiment, compare_sentiment, map_sentiment\n",
    "from functions.summary import apply_scaling\n",
    "from functions.vis import write_vis\n",
    "\n",
    "import plotly.graph_objects as go\n",
    "import plotly.express as px\n",
    "import pandas as pd"
   ]
  },
  {
   "cell_type": "code",
   "execution_count": null,
   "metadata": {},
   "outputs": [],
   "source": [
    "#datasets\n",
    "\n",
    "j_all = read_file(\"data\\\\0_extraction_data\\\\j_all.pkl\")\n",
    "k_all = read_file(\"data\\\\0_extraction_data\\\\k_all.pkl\")\n",
    "\n",
    "#subsets\n",
    "j_cited = read_file(\"data\\\\2_pos_data\\\\j_cited_2.pkl\")\n",
    "j_not_cited = read_file(\"data\\\\2_pos_data\\\\j_not_cited_2.pkl\")\n",
    "k_cited = read_file(\"data\\\\2_pos_data\\\\k_cited_2.pkl\")\n",
    "k_not_cited = read_file(\"data\\\\2_pos_data\\\\k_not_cited_2.pkl\")\n",
    "\n",
    "#define indizes to merge dataframes later on\n",
    "j_cited_index = j_cited.index\n",
    "j_not_cited_index = j_not_cited.index\n",
    "k_cited_index = k_cited.index\n",
    "k_not_cited_index = k_not_cited.index"
   ]
  },
  {
   "cell_type": "code",
   "execution_count": null,
   "metadata": {},
   "outputs": [],
   "source": [
    "# text processing\n",
    "# this might take a while (should be less than 1 min.)\n",
    "\n",
    "#subsets \n",
    "\n",
    "#k cited\n",
    "k_c_text = [x for x in k_cited[\"text\"]]\n",
    "k_c_citnum = [x for x in k_cited[\"frequency\"]]\n",
    "k_c_sents = split_sents(k_c_text)\n",
    "\n",
    "#k not cited\n",
    "k_nc_text = [x for x in k_not_cited[\"text\"]]\n",
    "k_nc_citnum = [x for x in k_not_cited[\"frequency\"]]\n",
    "k_nc_sents = split_sents(k_nc_text)\n",
    "\n",
    "#j cited\n",
    "j_c_text = [x for x in j_cited[\"text\"]]\n",
    "j_c_citnum = [x for x in j_cited[\"frequency\"]]\n",
    "j_c_sents = split_sents(j_c_text)\n",
    "\n",
    "#j not cited\n",
    "j_nc_text = [x for x in j_not_cited[\"text\"]]\n",
    "j_nc_citnum = [x for x in j_not_cited[\"frequency\"]]\n",
    "j_nc_sents = split_sents(j_nc_text)"
   ]
  },
  {
   "cell_type": "markdown",
   "metadata": {},
   "source": [
    "## SentiWS"
   ]
  },
  {
   "cell_type": "code",
   "execution_count": null,
   "metadata": {},
   "outputs": [],
   "source": [
    "# open SentiWS files and read them line per line\n",
    "\n",
    "positive = open(\"C:\\\\Users\\\\sophi\\\\Documents\\\\masterarbeit\\\\code\\\\SentiWS_v2-0\\\\SentiWS_v2.0_Positive.txt\", \"r\", encoding=\"utf-8\")\n",
    "negative = open(\"C:\\\\Users\\\\sophi\\\\Documents\\\\masterarbeit\\\\code\\\\SentiWS_v2-0\\\\SentiWS_v2.0_Negative.txt\", \"r\", encoding=\"utf-8\")\n",
    "positive_lines = positive.readlines()\n",
    "negative_lines = negative.readlines()"
   ]
  },
  {
   "cell_type": "code",
   "execution_count": null,
   "metadata": {},
   "outputs": [],
   "source": [
    "# create glossary from files\n",
    "\n",
    "sentiws = sentiws_glossary(positive_lines, negative_lines)\n",
    "sentiws"
   ]
  },
  {
   "cell_type": "code",
   "execution_count": null,
   "metadata": {},
   "outputs": [],
   "source": [
    "# create lists of polarity values for all passages\n",
    "# this lexicon-based approach has many limitations, more sophisticated methods based on annotated data and machine learning would of course be better\n",
    "\n",
    "j_c_sentiment = get_polarity_values(j_c_text, sentiws)\n",
    "j_nc_sentiment = get_polarity_values(j_nc_text, sentiws)\n",
    "k_c_sentiment = get_polarity_values(k_c_text, sentiws)\n",
    "k_nc_sentiment = get_polarity_values(k_nc_text, sentiws)\n",
    "\n",
    "#takes a while"
   ]
  },
  {
   "cell_type": "code",
   "execution_count": null,
   "metadata": {},
   "outputs": [],
   "source": [
    "#new col for sentiws\n",
    "\n",
    "j_cited[\"sentiws\"] = j_c_sentiment\n",
    "j_not_cited[\"sentiws\"] = j_nc_sentiment\n",
    "k_cited[\"sentiws\"] = k_c_sentiment\n",
    "k_not_cited[\"sentiws\"] = k_nc_sentiment\n",
    "\n",
    "j_all_3a = pd.concat([j_cited, j_not_cited])\n",
    "j_all_3a = j_all_3a.sort_index()\n",
    "\n",
    "k_all_3a = pd.concat([k_cited, k_not_cited])\n",
    "k_all_3a = k_all_3a.sort_index()"
   ]
  },
  {
   "cell_type": "code",
   "execution_count": null,
   "metadata": {},
   "outputs": [],
   "source": [
    "#calculate rel_sentiment by dividing through token_count\n",
    "\n",
    "j_all_3a[\"rel_sentiws\"] = [sentiws/token_count if token_count != 0 else 0 for sentiws, token_count in zip(j_all_3a[\"sentiws\"], j_all_3a[\"token_count\"])]\n",
    "k_all_3a[\"rel_sentiws\"] = [sentiws/token_count if token_count != 0 else 0 for sentiws, token_count in zip(k_all_3a[\"sentiws\"], k_all_3a[\"token_count\"])]"
   ]
  },
  {
   "cell_type": "code",
   "execution_count": null,
   "metadata": {},
   "outputs": [],
   "source": [
    "j_all_3b = apply_scaling(j_all_3a, \"rel_sentiws\", \"neg_pos\")\n",
    "k_all_3b = apply_scaling(k_all_3a, \"rel_sentiws\", \"neg_pos\")"
   ]
  },
  {
   "cell_type": "code",
   "execution_count": null,
   "metadata": {},
   "outputs": [],
   "source": [
    "top_sent = k_all_3b.sort_values(by=\"rel_sentiws\")\n",
    "top_sent"
   ]
  },
  {
   "cell_type": "code",
   "execution_count": null,
   "metadata": {},
   "outputs": [],
   "source": [
    "#line graph for sentiws values and cited/not_cited passages\n",
    "\n",
    "fig = px.line(k_all_3b, x=k_all_3b.sentiws.index, y=\"rel_sentiws\", color=\"passage_type\",color_discrete_sequence=[\"#C16152\", \"#509F98\"])\n",
    "fig.update_layout( template=\"plotly_dark\", font=dict(family = \"CMU Serif\", size=20), width=1500)\n",
    "fig.show()\n",
    "\n",
    "#write_vis([\"svg\"], \"k_all_sentiws_bar\", fig)"
   ]
  },
  {
   "cell_type": "markdown",
   "metadata": {},
   "source": [
    "## germansentiment"
   ]
  },
  {
   "cell_type": "code",
   "execution_count": null,
   "metadata": {},
   "outputs": [],
   "source": [
    "# run get_germansentiment for all subsets\n",
    "\n",
    "j_germansentiment = get_germansentiment(j_all_3b.text)\n",
    "k_germansentiment = get_germansentiment(k_all_3b.text)"
   ]
  },
  {
   "cell_type": "code",
   "execution_count": null,
   "metadata": {},
   "outputs": [],
   "source": [
    "#append germansentiment to previous dfs again\n",
    "\n",
    "j_all_3b[\"germansentiment\"] = j_germansentiment\n",
    "k_all_3b[\"germansentiment\"] = k_germansentiment"
   ]
  },
  {
   "cell_type": "code",
   "execution_count": null,
   "metadata": {},
   "outputs": [],
   "source": [
    "compare_sentiment(28, j_all_3b)"
   ]
  },
  {
   "cell_type": "code",
   "execution_count": null,
   "metadata": {},
   "outputs": [],
   "source": [
    "j_all_3c = map_sentiment(j_all_3b)\n",
    "k_all_3c = map_sentiment(k_all_3b)"
   ]
  },
  {
   "cell_type": "code",
   "execution_count": null,
   "metadata": {},
   "outputs": [],
   "source": [
    "# save new dataframes again for the next step\n",
    "\n",
    "j_all_3c.to_pickle(\"data\\\\3_sentiment_data\\\\j_all_3.pkl\")\n",
    "k_all_3c.to_pickle(\"data\\\\3_sentiment_data\\\\k_all_3.pkl\")"
   ]
  }
 ],
 "metadata": {
  "interpreter": {
   "hash": "7eef64f7e4c69d23018373627e30a15341c9b5e5118862fff2ef6eb02c852f48"
  },
  "kernelspec": {
   "display_name": "Python 3.7.9 64-bit",
   "language": "python",
   "name": "python3"
  },
  "language_info": {
   "codemirror_mode": {
    "name": "ipython",
    "version": 3
   },
   "file_extension": ".py",
   "mimetype": "text/x-python",
   "name": "python",
   "nbconvert_exporter": "python",
   "pygments_lexer": "ipython3",
   "version": "3.7.9"
  },
  "orig_nbformat": 4
 },
 "nbformat": 4,
 "nbformat_minor": 2
}
